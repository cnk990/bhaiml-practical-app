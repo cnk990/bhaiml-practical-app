{
 "cells": [
  {
   "cell_type": "markdown",
   "metadata": {
    "id": "CcUT6Fon_qRE"
   },
   "source": [
    "### Required Assignment 5.1: Will the Customer Accept the Coupon?\n",
    "\n",
    "**Context**\n",
    "\n",
    "Imagine driving through town and a coupon is delivered to your cell phone for a restaurant near where you are driving. Would you accept that coupon and take a short detour to the restaurant? Would you accept the coupon but use it on a subsequent trip? Would you ignore the coupon entirely? What if the coupon was for a bar instead of a restaurant? What about a coffee house? Would you accept a bar coupon with a minor passenger in the car? What about if it was just you and your partner in the car? Would weather impact the rate of acceptance? What about the time of day?\n",
    "\n",
    "Obviously, proximity to the business is a factor on whether the coupon is delivered to the driver or not, but what are the factors that determine whether a driver accepts the coupon once it is delivered to them? How would you determine whether a driver is likely to accept a coupon?\n",
    "\n",
    "**Overview**\n",
    "\n",
    "The goal of this project is to use what you know about visualizations and probability distributions to distinguish between customers who accepted a driving coupon versus those that did not.\n",
    "\n",
    "**Data**\n",
    "\n",
    "This data comes to us from the UCI Machine Learning repository and was collected via a survey on Amazon Mechanical Turk. The survey describes different driving scenarios including the destination, current time, weather, passenger, etc., and then ask the person whether he will accept the coupon if he is the driver. Answers that the user will drive there ‘right away’ or ‘later before the coupon expires’ are labeled as ‘Y = 1’ and answers ‘no, I do not want the coupon’ are labeled as ‘Y = 0’.  There are five different types of coupons -- less expensive restaurants (under \\$20), coffee houses, carry out & take away, bar, and more expensive restaurants (\\$20 - $50)."
   ]
  },
  {
   "cell_type": "markdown",
   "metadata": {
    "id": "1wORvMBJ_qRF"
   },
   "source": [
    "**Deliverables**\n",
    "\n",
    "Your final product should be a brief report that highlights the differences between customers who did and did not accept the coupons.  To explore the data you will utilize your knowledge of plotting, statistical summaries, and visualization using Python. You will publish your findings in a public facing github repository as your first portfolio piece.\n",
    "\n",
    "\n",
    "\n"
   ]
  },
  {
   "cell_type": "markdown",
   "metadata": {
    "id": "pG6_Ym6q_qRG"
   },
   "source": [
    "### Data Description\n",
    "Keep in mind that these values mentioned below are average values.\n",
    "\n",
    "The attributes of this data set include:\n",
    "1. User attributes\n",
    "    -  Gender: male, female\n",
    "    -  Age: below 21, 21 to 25, 26 to 30, etc.\n",
    "    -  Marital Status: single, married partner, unmarried partner, or widowed\n",
    "    -  Number of children: 0, 1, or more than 1\n",
    "    -  Education: high school, bachelors degree, associates degree, or graduate degree\n",
    "    -  Occupation: architecture & engineering, business & financial, etc.\n",
    "    -  Annual income: less than \\\\$12500, \\\\$12500 - \\\\$24999, \\\\$25000 - \\\\$37499, etc.\n",
    "    -  Number of times that he/she goes to a bar: 0, less than 1, 1 to 3, 4 to 8 or greater than 8\n",
    "    -  Number of times that he/she buys takeaway food: 0, less than 1, 1 to 3, 4 to 8 or greater\n",
    "    than 8\n",
    "    -  Number of times that he/she goes to a coffee house: 0, less than 1, 1 to 3, 4 to 8 or\n",
    "    greater than 8\n",
    "    -  Number of times that he/she eats at a restaurant with average expense less than \\\\$20 per\n",
    "    person: 0, less than 1, 1 to 3, 4 to 8 or greater than 8\n",
    "    -  Number of times that he/she goes to a bar: 0, less than 1, 1 to 3, 4 to 8 or greater than 8\n",
    "    \n",
    "\n",
    "2. Contextual attributes\n",
    "    - Driving destination: home, work, or no urgent destination\n",
    "    - Location of user, coupon and destination: we provide a map to show the geographical\n",
    "    location of the user, destination, and the venue, and we mark the distance between each\n",
    "    two places with time of driving. The user can see whether the venue is in the same\n",
    "    direction as the destination.\n",
    "    - Weather: sunny, rainy, or snowy\n",
    "    - Temperature: 30F, 55F, or 80F\n",
    "    - Time: 10AM, 2PM, or 6PM\n",
    "    - Passenger: alone, partner, kid(s), or friend(s)\n",
    "\n",
    "\n",
    "3. Coupon attributes\n",
    "    - time before it expires: 2 hours or one day"
   ]
  },
  {
   "cell_type": "code",
   "execution_count": 18,
   "metadata": {
    "id": "dzNoP3o__qRG"
   },
   "outputs": [],
   "source": [
    "import matplotlib.pyplot as plt\n",
    "import seaborn as sns\n",
    "import pandas as pd\n",
    "import numpy as np"
   ]
  },
  {
   "cell_type": "markdown",
   "metadata": {},
   "source": [
    "## Data Cleaning"
   ]
  },
  {
   "cell_type": "markdown",
   "metadata": {
    "id": "Ct8pI1uE_qRG"
   },
   "source": [
    "### Problems\n",
    "\n",
    "Use the prompts below to get started with your data analysis.  \n",
    "\n",
    "1. Read in the `coupons.csv` file.\n",
    "\n",
    "\n"
   ]
  },
  {
   "cell_type": "code",
   "execution_count": 19,
   "metadata": {
    "id": "X0vbffYg_qRH"
   },
   "outputs": [],
   "source": [
    "data = pd.read_csv('../data/coupons.csv')"
   ]
  },
  {
   "cell_type": "code",
   "execution_count": 22,
   "metadata": {
    "id": "TXofQ_DF_qRH",
    "outputId": "2fc96a2c-1112-4b54-f24f-dbb9bc88abfb"
   },
   "outputs": [
    {
     "data": {
      "text/html": [
       "<div>\n",
       "<style scoped>\n",
       "    .dataframe tbody tr th:only-of-type {\n",
       "        vertical-align: middle;\n",
       "    }\n",
       "\n",
       "    .dataframe tbody tr th {\n",
       "        vertical-align: top;\n",
       "    }\n",
       "\n",
       "    .dataframe thead th {\n",
       "        text-align: right;\n",
       "    }\n",
       "</style>\n",
       "<table border=\"1\" class=\"dataframe\">\n",
       "  <thead>\n",
       "    <tr style=\"text-align: right;\">\n",
       "      <th></th>\n",
       "      <th>destination</th>\n",
       "      <th>passanger</th>\n",
       "      <th>weather</th>\n",
       "      <th>temperature</th>\n",
       "      <th>time</th>\n",
       "      <th>coupon</th>\n",
       "      <th>expiration</th>\n",
       "      <th>gender</th>\n",
       "      <th>age</th>\n",
       "      <th>maritalStatus</th>\n",
       "      <th>...</th>\n",
       "      <th>CoffeeHouse</th>\n",
       "      <th>CarryAway</th>\n",
       "      <th>RestaurantLessThan20</th>\n",
       "      <th>Restaurant20To50</th>\n",
       "      <th>toCoupon_GEQ5min</th>\n",
       "      <th>toCoupon_GEQ15min</th>\n",
       "      <th>toCoupon_GEQ25min</th>\n",
       "      <th>direction_same</th>\n",
       "      <th>direction_opp</th>\n",
       "      <th>Y</th>\n",
       "    </tr>\n",
       "  </thead>\n",
       "  <tbody>\n",
       "    <tr>\n",
       "      <th>0</th>\n",
       "      <td>No Urgent Place</td>\n",
       "      <td>Alone</td>\n",
       "      <td>Sunny</td>\n",
       "      <td>55</td>\n",
       "      <td>2PM</td>\n",
       "      <td>Restaurant(&lt;20)</td>\n",
       "      <td>1d</td>\n",
       "      <td>Female</td>\n",
       "      <td>21</td>\n",
       "      <td>Unmarried partner</td>\n",
       "      <td>...</td>\n",
       "      <td>never</td>\n",
       "      <td>NaN</td>\n",
       "      <td>4~8</td>\n",
       "      <td>1~3</td>\n",
       "      <td>1</td>\n",
       "      <td>0</td>\n",
       "      <td>0</td>\n",
       "      <td>0</td>\n",
       "      <td>1</td>\n",
       "      <td>1</td>\n",
       "    </tr>\n",
       "    <tr>\n",
       "      <th>1</th>\n",
       "      <td>No Urgent Place</td>\n",
       "      <td>Friend(s)</td>\n",
       "      <td>Sunny</td>\n",
       "      <td>80</td>\n",
       "      <td>10AM</td>\n",
       "      <td>Coffee House</td>\n",
       "      <td>2h</td>\n",
       "      <td>Female</td>\n",
       "      <td>21</td>\n",
       "      <td>Unmarried partner</td>\n",
       "      <td>...</td>\n",
       "      <td>never</td>\n",
       "      <td>NaN</td>\n",
       "      <td>4~8</td>\n",
       "      <td>1~3</td>\n",
       "      <td>1</td>\n",
       "      <td>0</td>\n",
       "      <td>0</td>\n",
       "      <td>0</td>\n",
       "      <td>1</td>\n",
       "      <td>0</td>\n",
       "    </tr>\n",
       "    <tr>\n",
       "      <th>2</th>\n",
       "      <td>No Urgent Place</td>\n",
       "      <td>Friend(s)</td>\n",
       "      <td>Sunny</td>\n",
       "      <td>80</td>\n",
       "      <td>10AM</td>\n",
       "      <td>Carry out &amp; Take away</td>\n",
       "      <td>2h</td>\n",
       "      <td>Female</td>\n",
       "      <td>21</td>\n",
       "      <td>Unmarried partner</td>\n",
       "      <td>...</td>\n",
       "      <td>never</td>\n",
       "      <td>NaN</td>\n",
       "      <td>4~8</td>\n",
       "      <td>1~3</td>\n",
       "      <td>1</td>\n",
       "      <td>1</td>\n",
       "      <td>0</td>\n",
       "      <td>0</td>\n",
       "      <td>1</td>\n",
       "      <td>1</td>\n",
       "    </tr>\n",
       "    <tr>\n",
       "      <th>3</th>\n",
       "      <td>No Urgent Place</td>\n",
       "      <td>Friend(s)</td>\n",
       "      <td>Sunny</td>\n",
       "      <td>80</td>\n",
       "      <td>2PM</td>\n",
       "      <td>Coffee House</td>\n",
       "      <td>2h</td>\n",
       "      <td>Female</td>\n",
       "      <td>21</td>\n",
       "      <td>Unmarried partner</td>\n",
       "      <td>...</td>\n",
       "      <td>never</td>\n",
       "      <td>NaN</td>\n",
       "      <td>4~8</td>\n",
       "      <td>1~3</td>\n",
       "      <td>1</td>\n",
       "      <td>1</td>\n",
       "      <td>0</td>\n",
       "      <td>0</td>\n",
       "      <td>1</td>\n",
       "      <td>0</td>\n",
       "    </tr>\n",
       "    <tr>\n",
       "      <th>4</th>\n",
       "      <td>No Urgent Place</td>\n",
       "      <td>Friend(s)</td>\n",
       "      <td>Sunny</td>\n",
       "      <td>80</td>\n",
       "      <td>2PM</td>\n",
       "      <td>Coffee House</td>\n",
       "      <td>1d</td>\n",
       "      <td>Female</td>\n",
       "      <td>21</td>\n",
       "      <td>Unmarried partner</td>\n",
       "      <td>...</td>\n",
       "      <td>never</td>\n",
       "      <td>NaN</td>\n",
       "      <td>4~8</td>\n",
       "      <td>1~3</td>\n",
       "      <td>1</td>\n",
       "      <td>1</td>\n",
       "      <td>0</td>\n",
       "      <td>0</td>\n",
       "      <td>1</td>\n",
       "      <td>0</td>\n",
       "    </tr>\n",
       "  </tbody>\n",
       "</table>\n",
       "<p>5 rows × 26 columns</p>\n",
       "</div>"
      ],
      "text/plain": [
       "       destination  passanger weather  temperature  time  \\\n",
       "0  No Urgent Place      Alone   Sunny           55   2PM   \n",
       "1  No Urgent Place  Friend(s)   Sunny           80  10AM   \n",
       "2  No Urgent Place  Friend(s)   Sunny           80  10AM   \n",
       "3  No Urgent Place  Friend(s)   Sunny           80   2PM   \n",
       "4  No Urgent Place  Friend(s)   Sunny           80   2PM   \n",
       "\n",
       "                  coupon expiration  gender age      maritalStatus  ...  \\\n",
       "0        Restaurant(<20)         1d  Female  21  Unmarried partner  ...   \n",
       "1           Coffee House         2h  Female  21  Unmarried partner  ...   \n",
       "2  Carry out & Take away         2h  Female  21  Unmarried partner  ...   \n",
       "3           Coffee House         2h  Female  21  Unmarried partner  ...   \n",
       "4           Coffee House         1d  Female  21  Unmarried partner  ...   \n",
       "\n",
       "   CoffeeHouse CarryAway RestaurantLessThan20 Restaurant20To50  \\\n",
       "0        never       NaN                  4~8              1~3   \n",
       "1        never       NaN                  4~8              1~3   \n",
       "2        never       NaN                  4~8              1~3   \n",
       "3        never       NaN                  4~8              1~3   \n",
       "4        never       NaN                  4~8              1~3   \n",
       "\n",
       "  toCoupon_GEQ5min toCoupon_GEQ15min toCoupon_GEQ25min direction_same  \\\n",
       "0                1                 0                 0              0   \n",
       "1                1                 0                 0              0   \n",
       "2                1                 1                 0              0   \n",
       "3                1                 1                 0              0   \n",
       "4                1                 1                 0              0   \n",
       "\n",
       "  direction_opp  Y  \n",
       "0             1  1  \n",
       "1             1  0  \n",
       "2             1  1  \n",
       "3             1  0  \n",
       "4             1  0  \n",
       "\n",
       "[5 rows x 26 columns]"
      ]
     },
     "execution_count": 22,
     "metadata": {},
     "output_type": "execute_result"
    }
   ],
   "source": [
    "data.head()"
   ]
  },
  {
   "cell_type": "markdown",
   "metadata": {
    "id": "GcDs78ZH_qRH"
   },
   "source": [
    "2. Investigate the dataset for missing or problematic data."
   ]
  },
  {
   "cell_type": "code",
   "execution_count": 24,
   "metadata": {
    "id": "6CwL6oWj_qRH"
   },
   "outputs": [
    {
     "name": "stdout",
     "output_type": "stream",
     "text": [
      "\n",
      "Missing Values:\n",
      " car                     12576\n",
      "Bar                       107\n",
      "CoffeeHouse               217\n",
      "CarryAway                 151\n",
      "RestaurantLessThan20      130\n",
      "Restaurant20To50          189\n",
      "dtype: int64\n",
      "\n",
      "Duplicated Rows:\n",
      " [74]\n"
     ]
    }
   ],
   "source": [
    "#Check for missing values\n",
    "missing_values = data.isnull().sum()\n",
    "\n",
    "#Check for duplicated rows\n",
    "duplicated_rows = data.duplicated().sum()\n",
    "\n",
    "print(\"\\nMissing Values:\\n\", missing_values[missing_values > 0])\n",
    "print(\"\\nDuplicated Rows:\\n\", duplicated_rows[duplicated_rows > 0])"
   ]
  },
  {
   "cell_type": "code",
   "execution_count": 26,
   "metadata": {},
   "outputs": [
    {
     "name": "stdout",
     "output_type": "stream",
     "text": [
      "\n",
      "Unique Values:\n",
      " destination              3\n",
      "passanger                4\n",
      "weather                  3\n",
      "temperature              3\n",
      "time                     5\n",
      "coupon                   5\n",
      "expiration               2\n",
      "gender                   2\n",
      "age                      8\n",
      "maritalStatus            5\n",
      "has_children             2\n",
      "education                6\n",
      "occupation              25\n",
      "income                   9\n",
      "car                      5\n",
      "Bar                      5\n",
      "CoffeeHouse              5\n",
      "CarryAway                5\n",
      "RestaurantLessThan20     5\n",
      "Restaurant20To50         5\n",
      "toCoupon_GEQ5min         1\n",
      "toCoupon_GEQ15min        2\n",
      "toCoupon_GEQ25min        2\n",
      "direction_same           2\n",
      "direction_opp            2\n",
      "Y                        2\n",
      "dtype: int64\n"
     ]
    }
   ],
   "source": [
    "#Check for unique values\n",
    "unique_values = data.nunique()\n",
    "print(\"\\nUnique Values:\\n\", unique_values)"
   ]
  },
  {
   "cell_type": "code",
   "execution_count": 28,
   "metadata": {},
   "outputs": [
    {
     "data": {
      "text/html": [
       "<div>\n",
       "<style scoped>\n",
       "    .dataframe tbody tr th:only-of-type {\n",
       "        vertical-align: middle;\n",
       "    }\n",
       "\n",
       "    .dataframe tbody tr th {\n",
       "        vertical-align: top;\n",
       "    }\n",
       "\n",
       "    .dataframe thead th {\n",
       "        text-align: right;\n",
       "    }\n",
       "</style>\n",
       "<table border=\"1\" class=\"dataframe\">\n",
       "  <thead>\n",
       "    <tr style=\"text-align: right;\">\n",
       "      <th></th>\n",
       "      <th>destination</th>\n",
       "      <th>passanger</th>\n",
       "      <th>weather</th>\n",
       "      <th>temperature</th>\n",
       "      <th>time</th>\n",
       "      <th>coupon</th>\n",
       "      <th>expiration</th>\n",
       "      <th>gender</th>\n",
       "      <th>age</th>\n",
       "      <th>maritalStatus</th>\n",
       "      <th>...</th>\n",
       "      <th>CoffeeHouse</th>\n",
       "      <th>CarryAway</th>\n",
       "      <th>RestaurantLessThan20</th>\n",
       "      <th>Restaurant20To50</th>\n",
       "      <th>toCoupon_GEQ5min</th>\n",
       "      <th>toCoupon_GEQ15min</th>\n",
       "      <th>toCoupon_GEQ25min</th>\n",
       "      <th>direction_same</th>\n",
       "      <th>direction_opp</th>\n",
       "      <th>Y</th>\n",
       "    </tr>\n",
       "  </thead>\n",
       "  <tbody>\n",
       "    <tr>\n",
       "      <th>count</th>\n",
       "      <td>12684</td>\n",
       "      <td>12684</td>\n",
       "      <td>12684</td>\n",
       "      <td>12684.000000</td>\n",
       "      <td>12684</td>\n",
       "      <td>12684</td>\n",
       "      <td>12684</td>\n",
       "      <td>12684</td>\n",
       "      <td>12684</td>\n",
       "      <td>12684</td>\n",
       "      <td>...</td>\n",
       "      <td>12467</td>\n",
       "      <td>12533</td>\n",
       "      <td>12554</td>\n",
       "      <td>12495</td>\n",
       "      <td>12684.0</td>\n",
       "      <td>12684.000000</td>\n",
       "      <td>12684.000000</td>\n",
       "      <td>12684.000000</td>\n",
       "      <td>12684.000000</td>\n",
       "      <td>12684.000000</td>\n",
       "    </tr>\n",
       "    <tr>\n",
       "      <th>unique</th>\n",
       "      <td>3</td>\n",
       "      <td>4</td>\n",
       "      <td>3</td>\n",
       "      <td>NaN</td>\n",
       "      <td>5</td>\n",
       "      <td>5</td>\n",
       "      <td>2</td>\n",
       "      <td>2</td>\n",
       "      <td>8</td>\n",
       "      <td>5</td>\n",
       "      <td>...</td>\n",
       "      <td>5</td>\n",
       "      <td>5</td>\n",
       "      <td>5</td>\n",
       "      <td>5</td>\n",
       "      <td>NaN</td>\n",
       "      <td>NaN</td>\n",
       "      <td>NaN</td>\n",
       "      <td>NaN</td>\n",
       "      <td>NaN</td>\n",
       "      <td>NaN</td>\n",
       "    </tr>\n",
       "    <tr>\n",
       "      <th>top</th>\n",
       "      <td>No Urgent Place</td>\n",
       "      <td>Alone</td>\n",
       "      <td>Sunny</td>\n",
       "      <td>NaN</td>\n",
       "      <td>6PM</td>\n",
       "      <td>Coffee House</td>\n",
       "      <td>1d</td>\n",
       "      <td>Female</td>\n",
       "      <td>21</td>\n",
       "      <td>Married partner</td>\n",
       "      <td>...</td>\n",
       "      <td>less1</td>\n",
       "      <td>1~3</td>\n",
       "      <td>1~3</td>\n",
       "      <td>less1</td>\n",
       "      <td>NaN</td>\n",
       "      <td>NaN</td>\n",
       "      <td>NaN</td>\n",
       "      <td>NaN</td>\n",
       "      <td>NaN</td>\n",
       "      <td>NaN</td>\n",
       "    </tr>\n",
       "    <tr>\n",
       "      <th>freq</th>\n",
       "      <td>6283</td>\n",
       "      <td>7305</td>\n",
       "      <td>10069</td>\n",
       "      <td>NaN</td>\n",
       "      <td>3230</td>\n",
       "      <td>3996</td>\n",
       "      <td>7091</td>\n",
       "      <td>6511</td>\n",
       "      <td>2653</td>\n",
       "      <td>5100</td>\n",
       "      <td>...</td>\n",
       "      <td>3385</td>\n",
       "      <td>4672</td>\n",
       "      <td>5376</td>\n",
       "      <td>6077</td>\n",
       "      <td>NaN</td>\n",
       "      <td>NaN</td>\n",
       "      <td>NaN</td>\n",
       "      <td>NaN</td>\n",
       "      <td>NaN</td>\n",
       "      <td>NaN</td>\n",
       "    </tr>\n",
       "    <tr>\n",
       "      <th>mean</th>\n",
       "      <td>NaN</td>\n",
       "      <td>NaN</td>\n",
       "      <td>NaN</td>\n",
       "      <td>63.301798</td>\n",
       "      <td>NaN</td>\n",
       "      <td>NaN</td>\n",
       "      <td>NaN</td>\n",
       "      <td>NaN</td>\n",
       "      <td>NaN</td>\n",
       "      <td>NaN</td>\n",
       "      <td>...</td>\n",
       "      <td>NaN</td>\n",
       "      <td>NaN</td>\n",
       "      <td>NaN</td>\n",
       "      <td>NaN</td>\n",
       "      <td>1.0</td>\n",
       "      <td>0.561495</td>\n",
       "      <td>0.119126</td>\n",
       "      <td>0.214759</td>\n",
       "      <td>0.785241</td>\n",
       "      <td>0.568433</td>\n",
       "    </tr>\n",
       "    <tr>\n",
       "      <th>std</th>\n",
       "      <td>NaN</td>\n",
       "      <td>NaN</td>\n",
       "      <td>NaN</td>\n",
       "      <td>19.154486</td>\n",
       "      <td>NaN</td>\n",
       "      <td>NaN</td>\n",
       "      <td>NaN</td>\n",
       "      <td>NaN</td>\n",
       "      <td>NaN</td>\n",
       "      <td>NaN</td>\n",
       "      <td>...</td>\n",
       "      <td>NaN</td>\n",
       "      <td>NaN</td>\n",
       "      <td>NaN</td>\n",
       "      <td>NaN</td>\n",
       "      <td>0.0</td>\n",
       "      <td>0.496224</td>\n",
       "      <td>0.323950</td>\n",
       "      <td>0.410671</td>\n",
       "      <td>0.410671</td>\n",
       "      <td>0.495314</td>\n",
       "    </tr>\n",
       "    <tr>\n",
       "      <th>min</th>\n",
       "      <td>NaN</td>\n",
       "      <td>NaN</td>\n",
       "      <td>NaN</td>\n",
       "      <td>30.000000</td>\n",
       "      <td>NaN</td>\n",
       "      <td>NaN</td>\n",
       "      <td>NaN</td>\n",
       "      <td>NaN</td>\n",
       "      <td>NaN</td>\n",
       "      <td>NaN</td>\n",
       "      <td>...</td>\n",
       "      <td>NaN</td>\n",
       "      <td>NaN</td>\n",
       "      <td>NaN</td>\n",
       "      <td>NaN</td>\n",
       "      <td>1.0</td>\n",
       "      <td>0.000000</td>\n",
       "      <td>0.000000</td>\n",
       "      <td>0.000000</td>\n",
       "      <td>0.000000</td>\n",
       "      <td>0.000000</td>\n",
       "    </tr>\n",
       "    <tr>\n",
       "      <th>25%</th>\n",
       "      <td>NaN</td>\n",
       "      <td>NaN</td>\n",
       "      <td>NaN</td>\n",
       "      <td>55.000000</td>\n",
       "      <td>NaN</td>\n",
       "      <td>NaN</td>\n",
       "      <td>NaN</td>\n",
       "      <td>NaN</td>\n",
       "      <td>NaN</td>\n",
       "      <td>NaN</td>\n",
       "      <td>...</td>\n",
       "      <td>NaN</td>\n",
       "      <td>NaN</td>\n",
       "      <td>NaN</td>\n",
       "      <td>NaN</td>\n",
       "      <td>1.0</td>\n",
       "      <td>0.000000</td>\n",
       "      <td>0.000000</td>\n",
       "      <td>0.000000</td>\n",
       "      <td>1.000000</td>\n",
       "      <td>0.000000</td>\n",
       "    </tr>\n",
       "    <tr>\n",
       "      <th>50%</th>\n",
       "      <td>NaN</td>\n",
       "      <td>NaN</td>\n",
       "      <td>NaN</td>\n",
       "      <td>80.000000</td>\n",
       "      <td>NaN</td>\n",
       "      <td>NaN</td>\n",
       "      <td>NaN</td>\n",
       "      <td>NaN</td>\n",
       "      <td>NaN</td>\n",
       "      <td>NaN</td>\n",
       "      <td>...</td>\n",
       "      <td>NaN</td>\n",
       "      <td>NaN</td>\n",
       "      <td>NaN</td>\n",
       "      <td>NaN</td>\n",
       "      <td>1.0</td>\n",
       "      <td>1.000000</td>\n",
       "      <td>0.000000</td>\n",
       "      <td>0.000000</td>\n",
       "      <td>1.000000</td>\n",
       "      <td>1.000000</td>\n",
       "    </tr>\n",
       "    <tr>\n",
       "      <th>75%</th>\n",
       "      <td>NaN</td>\n",
       "      <td>NaN</td>\n",
       "      <td>NaN</td>\n",
       "      <td>80.000000</td>\n",
       "      <td>NaN</td>\n",
       "      <td>NaN</td>\n",
       "      <td>NaN</td>\n",
       "      <td>NaN</td>\n",
       "      <td>NaN</td>\n",
       "      <td>NaN</td>\n",
       "      <td>...</td>\n",
       "      <td>NaN</td>\n",
       "      <td>NaN</td>\n",
       "      <td>NaN</td>\n",
       "      <td>NaN</td>\n",
       "      <td>1.0</td>\n",
       "      <td>1.000000</td>\n",
       "      <td>0.000000</td>\n",
       "      <td>0.000000</td>\n",
       "      <td>1.000000</td>\n",
       "      <td>1.000000</td>\n",
       "    </tr>\n",
       "    <tr>\n",
       "      <th>max</th>\n",
       "      <td>NaN</td>\n",
       "      <td>NaN</td>\n",
       "      <td>NaN</td>\n",
       "      <td>80.000000</td>\n",
       "      <td>NaN</td>\n",
       "      <td>NaN</td>\n",
       "      <td>NaN</td>\n",
       "      <td>NaN</td>\n",
       "      <td>NaN</td>\n",
       "      <td>NaN</td>\n",
       "      <td>...</td>\n",
       "      <td>NaN</td>\n",
       "      <td>NaN</td>\n",
       "      <td>NaN</td>\n",
       "      <td>NaN</td>\n",
       "      <td>1.0</td>\n",
       "      <td>1.000000</td>\n",
       "      <td>1.000000</td>\n",
       "      <td>1.000000</td>\n",
       "      <td>1.000000</td>\n",
       "      <td>1.000000</td>\n",
       "    </tr>\n",
       "  </tbody>\n",
       "</table>\n",
       "<p>11 rows × 26 columns</p>\n",
       "</div>"
      ],
      "text/plain": [
       "            destination passanger weather   temperature   time        coupon  \\\n",
       "count             12684     12684   12684  12684.000000  12684         12684   \n",
       "unique                3         4       3           NaN      5             5   \n",
       "top     No Urgent Place     Alone   Sunny           NaN    6PM  Coffee House   \n",
       "freq               6283      7305   10069           NaN   3230          3996   \n",
       "mean                NaN       NaN     NaN     63.301798    NaN           NaN   \n",
       "std                 NaN       NaN     NaN     19.154486    NaN           NaN   \n",
       "min                 NaN       NaN     NaN     30.000000    NaN           NaN   \n",
       "25%                 NaN       NaN     NaN     55.000000    NaN           NaN   \n",
       "50%                 NaN       NaN     NaN     80.000000    NaN           NaN   \n",
       "75%                 NaN       NaN     NaN     80.000000    NaN           NaN   \n",
       "max                 NaN       NaN     NaN     80.000000    NaN           NaN   \n",
       "\n",
       "       expiration  gender    age    maritalStatus  ...  CoffeeHouse CarryAway  \\\n",
       "count       12684   12684  12684            12684  ...        12467     12533   \n",
       "unique          2       2      8                5  ...            5         5   \n",
       "top            1d  Female     21  Married partner  ...        less1       1~3   \n",
       "freq         7091    6511   2653             5100  ...         3385      4672   \n",
       "mean          NaN     NaN    NaN              NaN  ...          NaN       NaN   \n",
       "std           NaN     NaN    NaN              NaN  ...          NaN       NaN   \n",
       "min           NaN     NaN    NaN              NaN  ...          NaN       NaN   \n",
       "25%           NaN     NaN    NaN              NaN  ...          NaN       NaN   \n",
       "50%           NaN     NaN    NaN              NaN  ...          NaN       NaN   \n",
       "75%           NaN     NaN    NaN              NaN  ...          NaN       NaN   \n",
       "max           NaN     NaN    NaN              NaN  ...          NaN       NaN   \n",
       "\n",
       "       RestaurantLessThan20 Restaurant20To50 toCoupon_GEQ5min  \\\n",
       "count                 12554            12495          12684.0   \n",
       "unique                    5                5              NaN   \n",
       "top                     1~3            less1              NaN   \n",
       "freq                   5376             6077              NaN   \n",
       "mean                    NaN              NaN              1.0   \n",
       "std                     NaN              NaN              0.0   \n",
       "min                     NaN              NaN              1.0   \n",
       "25%                     NaN              NaN              1.0   \n",
       "50%                     NaN              NaN              1.0   \n",
       "75%                     NaN              NaN              1.0   \n",
       "max                     NaN              NaN              1.0   \n",
       "\n",
       "       toCoupon_GEQ15min toCoupon_GEQ25min direction_same direction_opp  \\\n",
       "count       12684.000000      12684.000000   12684.000000  12684.000000   \n",
       "unique               NaN               NaN            NaN           NaN   \n",
       "top                  NaN               NaN            NaN           NaN   \n",
       "freq                 NaN               NaN            NaN           NaN   \n",
       "mean            0.561495          0.119126       0.214759      0.785241   \n",
       "std             0.496224          0.323950       0.410671      0.410671   \n",
       "min             0.000000          0.000000       0.000000      0.000000   \n",
       "25%             0.000000          0.000000       0.000000      1.000000   \n",
       "50%             1.000000          0.000000       0.000000      1.000000   \n",
       "75%             1.000000          0.000000       0.000000      1.000000   \n",
       "max             1.000000          1.000000       1.000000      1.000000   \n",
       "\n",
       "                   Y  \n",
       "count   12684.000000  \n",
       "unique           NaN  \n",
       "top              NaN  \n",
       "freq             NaN  \n",
       "mean        0.568433  \n",
       "std         0.495314  \n",
       "min         0.000000  \n",
       "25%         0.000000  \n",
       "50%         1.000000  \n",
       "75%         1.000000  \n",
       "max         1.000000  \n",
       "\n",
       "[11 rows x 26 columns]"
      ]
     },
     "execution_count": 28,
     "metadata": {},
     "output_type": "execute_result"
    }
   ],
   "source": [
    "#Describe the data set\n",
    "data.describe(include = 'all')"
   ]
  },
  {
   "cell_type": "code",
   "execution_count": 30,
   "metadata": {},
   "outputs": [
    {
     "data": {
      "image/png": "[encoded data removed]",
      "text/plain": [
       "<Figure size 640x480 with 1 Axes>"
      ]
     },
     "metadata": {},
     "output_type": "display_data"
    }
   ],
   "source": [
    "#Visualize the missing values\n",
    "#Bar Plot of missing values per column\n",
    "missing_values[missing_values > 0].plot(kind = 'bar', color = 'skyblue')\n",
    "plt.title(\"Missing Values Count by Column\")\n",
    "plt.xlabel(\"Columns\")\n",
    "plt.ylabel(\"Count of Missing Values\")\n",
    "plt.xticks(rotation = 45, ha='right')\n",
    "plt.show()"
   ]
  },
  {
   "cell_type": "code",
   "execution_count": 34,
   "metadata": {},
   "outputs": [
    {
     "data": {
      "text/plain": [
       "<Axes: >"
      ]
     },
     "execution_count": 34,
     "metadata": {},
     "output_type": "execute_result"
    },
    {
     "data": {
      "image/png": "[encoded data removed]",
      "text/plain": [
       "<Figure size 640x480 with 2 Axes>"
      ]
     },
     "metadata": {},
     "output_type": "display_data"
    }
   ],
   "source": [
    "#Visualize using heatmap\n",
    "sns.heatmap(data.isnull())"
   ]
  },
  {
   "cell_type": "markdown",
   "metadata": {
    "id": "bSdVSpYB_qRH"
   },
   "source": [
    "3. Decide what to do about your missing data -- drop, replace, other..."
   ]
  },
  {
   "cell_type": "code",
   "execution_count": 36,
   "metadata": {
    "id": "tyvoAC5F_qRI"
   },
   "outputs": [
    {
     "data": {
      "text/plain": [
       "Index(['car'], dtype='object')"
      ]
     },
     "execution_count": 36,
     "metadata": {},
     "output_type": "execute_result"
    }
   ],
   "source": [
    "#Drop columns with excessive missing values\n",
    "#Define a threshold for excessive missing values\n",
    "threshold = 0.4\n",
    "\n",
    "#Identify columns with msising values that exceed the threshold\n",
    "columns_to_drop = data.columns[data.isnull().mean() > threshold]\n",
    "\n",
    "#Drop these columns from the dataset\n",
    "data_cleaned = data.drop(columns = columns_to_drop, axis=1)\n",
    "\n",
    "columns_to_drop"
   ]
  },
  {
   "cell_type": "markdown",
   "metadata": {},
   "source": [
    "## EDA: Exploratory Data Analysis"
   ]
  },
  {
   "cell_type": "markdown",
   "metadata": {
    "id": "YE6oJbXd_qRI"
   },
   "source": [
    "4. What proportion of the total observations chose to accept the coupon?\n",
    "\n"
   ]
  },
  {
   "cell_type": "code",
   "execution_count": 38,
   "metadata": {
    "id": "86GGqBTv_qRI"
   },
   "outputs": [
    {
     "data": {
      "text/plain": [
       "0.5684326710816777"
      ]
     },
     "execution_count": 38,
     "metadata": {},
     "output_type": "execute_result"
    }
   ],
   "source": [
    "#Proportion of the total observations that chose to accept the coupon (Y=1)\n",
    "proportion_accepted = data_cleaned['Y'].mean()\n",
    "\n",
    "#display the proportion accepted\n",
    "proportion_accepted"
   ]
  },
  {
   "cell_type": "markdown",
   "metadata": {
    "id": "vflz0DoE_qRI"
   },
   "source": [
    "5. Use a bar plot to visualize the `coupon` column."
   ]
  },
  {
   "cell_type": "code",
   "execution_count": 40,
   "metadata": {
    "id": "dHFh3E45_qRI"
   },
   "outputs": [
    {
     "data": {
      "image/png": "[encoded data removed]",
      "text/plain": [
       "<Figure size 640x480 with 1 Axes>"
      ]
     },
     "metadata": {},
     "output_type": "display_data"
    }
   ],
   "source": [
    "sns.countplot(data=data, x='coupon')\n",
    "plt.title(\"Distribution of Coupons\")\n",
    "plt.xlabel(\"Coupon Type\")\n",
    "plt.ylabel(\"Count\")\n",
    "plt.xticks(rotation=45)\n",
    "plt.show()"
   ]
  },
  {
   "cell_type": "markdown",
   "metadata": {
    "id": "Qw4lCyx2_qRI"
   },
   "source": [
    "6. Use a histogram to visualize the temperature column."
   ]
  },
  {
   "cell_type": "code",
   "execution_count": 42,
   "metadata": {
    "id": "Yg9Anv71_qRI"
   },
   "outputs": [
    {
     "data": {
      "image/png": "[encoded data removed]",
      "text/plain": [
       "<Figure size 640x480 with 1 Axes>"
      ]
     },
     "metadata": {},
     "output_type": "display_data"
    }
   ],
   "source": [
    "sns.histplot(data=data, x='temperature', bins=10, kde=True)\n",
    "plt.title(\"Temperature Distribution\")\n",
    "plt.xlabel(\"Temperature(F)\")\n",
    "plt.ylabel(\"Frequency\")\n",
    "plt.show()"
   ]
  },
  {
   "cell_type": "markdown",
   "metadata": {
    "id": "ShcUC-Vm_qRJ"
   },
   "source": [
    "## Bar Coupon Analysis"
   ]
  },
  {
   "cell_type": "markdown",
   "metadata": {
    "id": "FupfgeJk_qRJ"
   },
   "source": [
    "**Investigating the Bar Coupons**\n",
    "\n",
    "Now, we will lead you through an exploration of just the bar related coupons.  \n",
    "\n",
    "1. Create a new `DataFrame` that contains just the bar coupons.\n"
   ]
  },
  {
   "cell_type": "code",
   "execution_count": 44,
   "metadata": {
    "id": "tMBlWuGq_qRJ"
   },
   "outputs": [],
   "source": [
    "data_bar_coupons = data[data['coupon'] == 'Bar']\n",
    "\n",
    "#Clean the data by dropping missing values\n",
    "data_bar_coupons_cleaned = data_bar_coupons.dropna(subset=['age', 'Bar', 'Y'])"
   ]
  },
  {
   "cell_type": "markdown",
   "metadata": {
    "id": "8ue6uCqf_qRJ"
   },
   "source": [
    "2. What proportion of bar coupons were accepted?\n"
   ]
  },
  {
   "cell_type": "code",
   "execution_count": 46,
   "metadata": {
    "id": "hSdte8Mi_qRK"
   },
   "outputs": [
    {
     "data": {
      "text/plain": [
       "0.4103206412825651"
      ]
     },
     "execution_count": 46,
     "metadata": {},
     "output_type": "execute_result"
    }
   ],
   "source": [
    "bar_coupons_acceptance_rate = data_bar_coupons_cleaned['Y'].mean()\n",
    "bar_coupons_acceptance_rate"
   ]
  },
  {
   "cell_type": "markdown",
   "metadata": {
    "id": "85nA_iEi_qRK"
   },
   "source": [
    "3. Compare the acceptance rate between those who went to a bar 3 or fewer times a month to those who went more.\n"
   ]
  },
  {
   "cell_type": "code",
   "execution_count": 48,
   "metadata": {
    "id": "LBOrN-XM_qRK"
   },
   "outputs": [
    {
     "name": "stdout",
     "output_type": "stream",
     "text": [
      "\n",
      " Acceptance Rate for Bar Visits 3 or Fewer:\n",
      " 0.5274043433298863\n",
      "\n",
      " Acceptance Rate for Bar Visits More Than 3:\n",
      " 0.7688442211055276\n"
     ]
    }
   ],
   "source": [
    "bar_visited_3_or_fewer = data_bar_coupons_cleaned[data_bar_coupons_cleaned['Bar'].isin(['0', 'less1', '1~3'])]['Y'].mean()\n",
    "bar_visited_more_than_3 = data_bar_coupons_cleaned[data_bar_coupons_cleaned['Bar'].isin(['4~8', 'gt8'])]['Y'].mean()\n",
    "print(\"\\n Acceptance Rate for Bar Visits 3 or Fewer:\\n\", bar_visited_3_or_fewer)\n",
    "print(\"\\n Acceptance Rate for Bar Visits More Than 3:\\n\", bar_visited_more_than_3)"
   ]
  },
  {
   "cell_type": "markdown",
   "metadata": {
    "id": "RBgcQwH4_qRK"
   },
   "source": [
    "4. Compare the acceptance rate between drivers who go to a bar more than once a month and are over the age of 25 to the all others.  Is there a difference?\n"
   ]
  },
  {
   "cell_type": "code",
   "execution_count": 53,
   "metadata": {
    "id": "bf28bbeX_qRK"
   },
   "outputs": [
    {
     "name": "stdout",
     "output_type": "stream",
     "text": [
      "\n",
      " Acceptance Rate for Drivers over age 25 who go to bar once a month:\n",
      " 0.6952380952380952\n",
      "\n",
      " Acceptance Rate for All other drivers:\n",
      " 0.3343908629441624\n"
     ]
    }
   ],
   "source": [
    "#Get the unique values for age, bar and Y\n",
    "age_unique_values = data_bar_coupons_cleaned['age'].unique()\n",
    "bar_unique_values = data_bar_coupons_cleaned['Bar'].unique()\n",
    "y_unique_values = data_bar_coupons_cleaned['Y'].unique()\n",
    "\n",
    "data_bar_coupons_cleaned = data_bar_coupons_cleaned.copy()\n",
    "\n",
    "# Clean the 'age' column by replacing non-numeric values\n",
    "data_bar_coupons_cleaned['age_numeric'] = data_bar_coupons_cleaned['age'].replace({'below21': 20, '50plus': 51}).astype(int)\n",
    "\n",
    "\n",
    "# Extract numeric age and convert Y to integer\n",
    "#data_bar_coupons_cleaned.loc[:, 'age_numeric'] = data_bar_coupons_cleaned['age'].str.extract(r'(\\d+)').astype(float)\n",
    "#data_bar_coupons_cleaned.loc[:, 'Y'] = data_bar_coupons_cleaned['Y'].astype(int)\n",
    "\n",
    "\n",
    "drivers_over_25_bar_more_than_once = data_bar_coupons_cleaned[(data_bar_coupons_cleaned['age_numeric'] > 25) & \n",
    "                                                (data_bar_coupons_cleaned['Bar'].isin(['1~3', '4~8', 'gt8']))]['Y'].mean()\n",
    "\n",
    "all_other_drivers = data_bar_coupons_cleaned[~((data_bar_coupons_cleaned['age_numeric'] > 25) & \n",
    "                                      (data_bar_coupons_cleaned['Bar'].isin(['1~3', '4~8', 'gt8'])))]['Y'].mean()\n",
    "\n",
    "print(\"\\n Acceptance Rate for Drivers over age 25 who go to bar once a month:\\n\", drivers_over_25_bar_more_than_once)\n",
    "print(\"\\n Acceptance Rate for All other drivers:\\n\", all_other_drivers)"
   ]
  },
  {
   "cell_type": "markdown",
   "metadata": {
    "id": "S4RKT4PJ_qRK"
   },
   "source": [
    "5. Use the same process to compare the acceptance rate between drivers who go to bars more than once a month and had passengers that were not a kid and had occupations other than farming, fishing, or forestry.\n"
   ]
  },
  {
   "cell_type": "code",
   "execution_count": 55,
   "metadata": {
    "id": "sENaI2Tg_qRK"
   },
   "outputs": [
    {
     "data": {
      "text/plain": [
       "(0.7132486388384754, 0.2948096885813149)"
      ]
     },
     "execution_count": 55,
     "metadata": {},
     "output_type": "execute_result"
    }
   ],
   "source": [
    "# drivers who go to bars more than once a month\n",
    "more_than_once = data_bar_coupons_cleaned['Bar'].isin(['1~3', '4~8', 'gt8'])\n",
    "\n",
    "# drivers with passengers that are not kids\n",
    "no_kid_passenger = data_bar_coupons_cleaned['passanger'] != 'Kid(s)'\n",
    "\n",
    "# drivers with occupations other than farming, fishing, or forestry\n",
    "non_farming_jobs = data_bar_coupons_cleaned['occupation'] != 'Farming Fishing & Forestry'\n",
    "\n",
    "# acceptance rate for drivers matching all three criteria\n",
    "acceptance_non_kid_non_farming = data_bar_coupons_cleaned[\n",
    "    more_than_once & no_kid_passenger & non_farming_jobs\n",
    "]['Y'].mean()\n",
    "\n",
    "all_other_drivers = data_bar_coupons_cleaned[\n",
    "    ~((data_bar_coupons_cleaned['Bar'].isin(['1~3', '4~8', 'gt8'])) & \n",
    "      (data_bar_coupons_cleaned['passanger'] != 'Kid(s)') & \n",
    "      (data_bar_coupons_cleaned['occupation'] != 'Farming, Fishing, and Forestry'))]['Y'].mean()\n",
    "\n",
    "acceptance_non_kid_non_farming, all_other_drivers"
   ]
  },
  {
   "cell_type": "markdown",
   "metadata": {
    "id": "n2LIUTil_qRK"
   },
   "source": [
    "6. Compare the acceptance rates between those drivers who:\n",
    "\n",
    "- go to bars more than once a month, had passengers that were not a kid, and were not widowed *OR*\n",
    "- go to bars more than once a month and are under the age of 30 *OR*\n",
    "- go to cheap restaurants more than 4 times a month and income is less than 50K.\n",
    "\n"
   ]
  },
  {
   "cell_type": "code",
   "execution_count": 57,
   "metadata": {
    "id": "aK_wEzx7_qRK"
   },
   "outputs": [
    {
     "data": {
      "text/plain": [
       "0.6152777777777778"
      ]
     },
     "execution_count": 57,
     "metadata": {},
     "output_type": "execute_result"
    }
   ],
   "source": [
    "# drivers who go to bars more than once a month, not a kid passenger, not widowed\n",
    "drivers_not_widowed = data_bar_coupons_cleaned['maritalStatus'] != 'Widowed'\n",
    "condition_1 = more_than_once & no_kid_passenger & drivers_not_widowed\n",
    "\n",
    "# drivers who go to bars more than once a month and are under 30\n",
    "drivers_under_30 = data_bar_coupons_cleaned['age_numeric'] < 30\n",
    "condition_2 = more_than_once & drivers_under_30\n",
    "\n",
    "# drivers who go to cheap restaurants more than 4 times a month and income < 50K\n",
    "cheap_restaurants_more_than_4_times = data_bar_coupons_cleaned['RestaurantLessThan20'].isin(['4~8', 'gt8'])\n",
    "drivers_low_income = data_bar_coupons_cleaned['income'].isin(['less than $12500', '$12500 - $24999', \n",
    "                                                     '$25000 - $37499', '$37500 - $49999'])\n",
    "condition_3 = cheap_restaurants_more_than_4_times & drivers_low_income\n",
    "\n",
    "# acceptance rate for drivers meeting any of the conditions\n",
    "acceptance_rate_meeting_any_condition = data_bar_coupons_cleaned[\n",
    "    condition_1 | condition_2 | condition_3\n",
    "]['Y'].mean()\n",
    "\n",
    "acceptance_rate_meeting_any_condition"
   ]
  },
  {
   "cell_type": "markdown",
   "metadata": {
    "id": "v3fL3QkO_qRK"
   },
   "source": [
    "7.  Based on these observations, what do you hypothesize about drivers who accepted the bar coupons?"
   ]
  },
  {
   "cell_type": "markdown",
   "metadata": {
    "id": "Y48naDFh_qRL"
   },
   "source": [
    "- Those who go to bars more than once a month had significantly higher acceptance rates (~69%-71%).\n",
    "- Younger drivers likely have more social lifestyles, making them more receptive to bar coupons.\n",
    "- Drivers with incomes under $50K were more likely to accept bar coupons.\n",
    "- Drivers in professions other than farming, fishing, or forestry had higher acceptance rates.\n",
    "- Drivers with no kid passengers were much more likely to accept bar coupons.\n",
    "- Drivers who were not widowed were more likely to accept bar coupons."
   ]
  },
  {
   "cell_type": "markdown",
   "metadata": {},
   "source": [
    "## Coffee Coupon Analysis"
   ]
  },
  {
   "cell_type": "markdown",
   "metadata": {
    "id": "r4Hu1zOb_qRL"
   },
   "source": [
    "#### Independent Investigation of Coffee Coupons\n",
    "\n",
    "Using the bar coupon example as motivation, you are to explore one of the other coupon groups and try to determine the characteristics of passengers who accept the coupons.  "
   ]
  },
  {
   "cell_type": "markdown",
   "metadata": {
    "id": "0c71cQhu_qRL"
   },
   "source": [
    "1. Create a new DataFrame that contains just the coffee coupons."
   ]
  },
  {
   "cell_type": "code",
   "execution_count": 59,
   "metadata": {
    "id": "QEsBkvIN_qRL"
   },
   "outputs": [],
   "source": [
    "# Select 'Coffee House' coupon for investigation\n",
    "data_coffee_coupons = data[data['coupon'] == 'Coffee House']"
   ]
  },
  {
   "cell_type": "code",
   "execution_count": 61,
   "metadata": {
    "id": "fTC2WGE3_qRL"
   },
   "outputs": [
    {
     "data": {
      "text/html": [
       "<div>\n",
       "<style scoped>\n",
       "    .dataframe tbody tr th:only-of-type {\n",
       "        vertical-align: middle;\n",
       "    }\n",
       "\n",
       "    .dataframe tbody tr th {\n",
       "        vertical-align: top;\n",
       "    }\n",
       "\n",
       "    .dataframe thead th {\n",
       "        text-align: right;\n",
       "    }\n",
       "</style>\n",
       "<table border=\"1\" class=\"dataframe\">\n",
       "  <thead>\n",
       "    <tr style=\"text-align: right;\">\n",
       "      <th></th>\n",
       "      <th>destination</th>\n",
       "      <th>passanger</th>\n",
       "      <th>weather</th>\n",
       "      <th>temperature</th>\n",
       "      <th>time</th>\n",
       "      <th>coupon</th>\n",
       "      <th>expiration</th>\n",
       "      <th>gender</th>\n",
       "      <th>age</th>\n",
       "      <th>maritalStatus</th>\n",
       "      <th>...</th>\n",
       "      <th>CoffeeHouse</th>\n",
       "      <th>CarryAway</th>\n",
       "      <th>RestaurantLessThan20</th>\n",
       "      <th>Restaurant20To50</th>\n",
       "      <th>toCoupon_GEQ5min</th>\n",
       "      <th>toCoupon_GEQ15min</th>\n",
       "      <th>toCoupon_GEQ25min</th>\n",
       "      <th>direction_same</th>\n",
       "      <th>direction_opp</th>\n",
       "      <th>Y</th>\n",
       "    </tr>\n",
       "  </thead>\n",
       "  <tbody>\n",
       "    <tr>\n",
       "      <th>1</th>\n",
       "      <td>No Urgent Place</td>\n",
       "      <td>Friend(s)</td>\n",
       "      <td>Sunny</td>\n",
       "      <td>80</td>\n",
       "      <td>10AM</td>\n",
       "      <td>Coffee House</td>\n",
       "      <td>2h</td>\n",
       "      <td>Female</td>\n",
       "      <td>21</td>\n",
       "      <td>Unmarried partner</td>\n",
       "      <td>...</td>\n",
       "      <td>never</td>\n",
       "      <td>NaN</td>\n",
       "      <td>4~8</td>\n",
       "      <td>1~3</td>\n",
       "      <td>1</td>\n",
       "      <td>0</td>\n",
       "      <td>0</td>\n",
       "      <td>0</td>\n",
       "      <td>1</td>\n",
       "      <td>0</td>\n",
       "    </tr>\n",
       "    <tr>\n",
       "      <th>3</th>\n",
       "      <td>No Urgent Place</td>\n",
       "      <td>Friend(s)</td>\n",
       "      <td>Sunny</td>\n",
       "      <td>80</td>\n",
       "      <td>2PM</td>\n",
       "      <td>Coffee House</td>\n",
       "      <td>2h</td>\n",
       "      <td>Female</td>\n",
       "      <td>21</td>\n",
       "      <td>Unmarried partner</td>\n",
       "      <td>...</td>\n",
       "      <td>never</td>\n",
       "      <td>NaN</td>\n",
       "      <td>4~8</td>\n",
       "      <td>1~3</td>\n",
       "      <td>1</td>\n",
       "      <td>1</td>\n",
       "      <td>0</td>\n",
       "      <td>0</td>\n",
       "      <td>1</td>\n",
       "      <td>0</td>\n",
       "    </tr>\n",
       "    <tr>\n",
       "      <th>4</th>\n",
       "      <td>No Urgent Place</td>\n",
       "      <td>Friend(s)</td>\n",
       "      <td>Sunny</td>\n",
       "      <td>80</td>\n",
       "      <td>2PM</td>\n",
       "      <td>Coffee House</td>\n",
       "      <td>1d</td>\n",
       "      <td>Female</td>\n",
       "      <td>21</td>\n",
       "      <td>Unmarried partner</td>\n",
       "      <td>...</td>\n",
       "      <td>never</td>\n",
       "      <td>NaN</td>\n",
       "      <td>4~8</td>\n",
       "      <td>1~3</td>\n",
       "      <td>1</td>\n",
       "      <td>1</td>\n",
       "      <td>0</td>\n",
       "      <td>0</td>\n",
       "      <td>1</td>\n",
       "      <td>0</td>\n",
       "    </tr>\n",
       "    <tr>\n",
       "      <th>12</th>\n",
       "      <td>No Urgent Place</td>\n",
       "      <td>Kid(s)</td>\n",
       "      <td>Sunny</td>\n",
       "      <td>55</td>\n",
       "      <td>6PM</td>\n",
       "      <td>Coffee House</td>\n",
       "      <td>2h</td>\n",
       "      <td>Female</td>\n",
       "      <td>21</td>\n",
       "      <td>Unmarried partner</td>\n",
       "      <td>...</td>\n",
       "      <td>never</td>\n",
       "      <td>NaN</td>\n",
       "      <td>4~8</td>\n",
       "      <td>1~3</td>\n",
       "      <td>1</td>\n",
       "      <td>1</td>\n",
       "      <td>0</td>\n",
       "      <td>0</td>\n",
       "      <td>1</td>\n",
       "      <td>1</td>\n",
       "    </tr>\n",
       "    <tr>\n",
       "      <th>15</th>\n",
       "      <td>Home</td>\n",
       "      <td>Alone</td>\n",
       "      <td>Sunny</td>\n",
       "      <td>80</td>\n",
       "      <td>6PM</td>\n",
       "      <td>Coffee House</td>\n",
       "      <td>2h</td>\n",
       "      <td>Female</td>\n",
       "      <td>21</td>\n",
       "      <td>Unmarried partner</td>\n",
       "      <td>...</td>\n",
       "      <td>never</td>\n",
       "      <td>NaN</td>\n",
       "      <td>4~8</td>\n",
       "      <td>1~3</td>\n",
       "      <td>1</td>\n",
       "      <td>0</td>\n",
       "      <td>0</td>\n",
       "      <td>0</td>\n",
       "      <td>1</td>\n",
       "      <td>0</td>\n",
       "    </tr>\n",
       "  </tbody>\n",
       "</table>\n",
       "<p>5 rows × 26 columns</p>\n",
       "</div>"
      ],
      "text/plain": [
       "        destination  passanger weather  temperature  time        coupon  \\\n",
       "1   No Urgent Place  Friend(s)   Sunny           80  10AM  Coffee House   \n",
       "3   No Urgent Place  Friend(s)   Sunny           80   2PM  Coffee House   \n",
       "4   No Urgent Place  Friend(s)   Sunny           80   2PM  Coffee House   \n",
       "12  No Urgent Place     Kid(s)   Sunny           55   6PM  Coffee House   \n",
       "15             Home      Alone   Sunny           80   6PM  Coffee House   \n",
       "\n",
       "   expiration  gender age      maritalStatus  ...  CoffeeHouse CarryAway  \\\n",
       "1          2h  Female  21  Unmarried partner  ...        never       NaN   \n",
       "3          2h  Female  21  Unmarried partner  ...        never       NaN   \n",
       "4          1d  Female  21  Unmarried partner  ...        never       NaN   \n",
       "12         2h  Female  21  Unmarried partner  ...        never       NaN   \n",
       "15         2h  Female  21  Unmarried partner  ...        never       NaN   \n",
       "\n",
       "   RestaurantLessThan20 Restaurant20To50 toCoupon_GEQ5min toCoupon_GEQ15min  \\\n",
       "1                   4~8              1~3                1                 0   \n",
       "3                   4~8              1~3                1                 1   \n",
       "4                   4~8              1~3                1                 1   \n",
       "12                  4~8              1~3                1                 1   \n",
       "15                  4~8              1~3                1                 0   \n",
       "\n",
       "   toCoupon_GEQ25min direction_same direction_opp  Y  \n",
       "1                  0              0             1  0  \n",
       "3                  0              0             1  0  \n",
       "4                  0              0             1  0  \n",
       "12                 0              0             1  1  \n",
       "15                 0              0             1  0  \n",
       "\n",
       "[5 rows x 26 columns]"
      ]
     },
     "execution_count": 61,
     "metadata": {},
     "output_type": "execute_result"
    }
   ],
   "source": [
    "data_coffee_coupons.head()"
   ]
  },
  {
   "cell_type": "markdown",
   "metadata": {},
   "source": [
    "2. Investigate the dataset for missing or problematic data."
   ]
  },
  {
   "cell_type": "code",
   "execution_count": 63,
   "metadata": {
    "id": "RrqUWn7d_qRL"
   },
   "outputs": [
    {
     "data": {
      "text/plain": [
       "Index(['car'], dtype='object')"
      ]
     },
     "execution_count": 63,
     "metadata": {},
     "output_type": "execute_result"
    }
   ],
   "source": [
    "#Check for missing values in the coffee house datasets\n",
    "missing_values_coffee = data_coffee_coupons.isnull().sum()\n",
    "\n",
    "#Drop columns with excessive missing values\n",
    "threshold = 0.4\n",
    "columns_to_drop = data_coffee_coupons.columns[data_coffee_coupons.isnull().mean() > threshold]\n",
    "data_coffee_coupons_cleaned = data_coffee_coupons.drop(columns=columns_to_drop)\n",
    "\n",
    "#Drop rows with missing values in the remaining dataset\n",
    "data_coffee_coupons_cleaned = data_coffee_coupons_cleaned.dropna(subset=['CoffeeHouse', 'Y'])\n",
    "\n",
    "#Dropped Columns\n",
    "columns_to_drop"
   ]
  },
  {
   "cell_type": "markdown",
   "metadata": {
    "id": "_oykf8YP_qRL"
   },
   "source": [
    "3. What proportion of Coffee House coupons were accepted?"
   ]
  },
  {
   "cell_type": "code",
   "execution_count": 65,
   "metadata": {},
   "outputs": [
    {
     "data": {
      "text/plain": [
       "0.5"
      ]
     },
     "execution_count": 65,
     "metadata": {},
     "output_type": "execute_result"
    }
   ],
   "source": [
    "#Calculate the coffee house coupons acceptance after cleaning the dataset\n",
    "coffee_acceptance_rate_cleaned = data_coffee_coupons_cleaned[\"Y\"].mean()\n",
    "\n",
    "coffee_acceptance_rate_cleaned"
   ]
  },
  {
   "cell_type": "markdown",
   "metadata": {},
   "source": [
    "The acceptance rate for Coffee House coupons is 50%."
   ]
  },
  {
   "cell_type": "markdown",
   "metadata": {},
   "source": [
    "4. What type of passengers accepted the Coffee House coupons?"
   ]
  },
  {
   "cell_type": "code",
   "execution_count": 67,
   "metadata": {},
   "outputs": [
    {
     "data": {
      "text/plain": [
       "passanger\n",
       "Alone        0.438091\n",
       "Friend(s)    0.599170\n",
       "Kid(s)       0.482759\n",
       "Partner      0.572881\n",
       "Name: Y, dtype: float64"
      ]
     },
     "execution_count": 67,
     "metadata": {},
     "output_type": "execute_result"
    }
   ],
   "source": [
    "#Calculate acceptance rate by passenger type using cleaned data\n",
    "coffee_acceptance_by_passenger_cleaned = data_coffee_coupons_cleaned.groupby(\"passanger\")[\"Y\"].mean()\n",
    "\n",
    "coffee_acceptance_by_passenger_cleaned"
   ]
  },
  {
   "cell_type": "markdown",
   "metadata": {},
   "source": [
    "5. What is the influence of time of the day on acceptance rates for different passengaer types?"
   ]
  },
  {
   "cell_type": "code",
   "execution_count": 69,
   "metadata": {},
   "outputs": [
    {
     "data": {
      "text/html": [
       "<div>\n",
       "<style scoped>\n",
       "    .dataframe tbody tr th:only-of-type {\n",
       "        vertical-align: middle;\n",
       "    }\n",
       "\n",
       "    .dataframe tbody tr th {\n",
       "        vertical-align: top;\n",
       "    }\n",
       "\n",
       "    .dataframe thead th {\n",
       "        text-align: right;\n",
       "    }\n",
       "</style>\n",
       "<table border=\"1\" class=\"dataframe\">\n",
       "  <thead>\n",
       "    <tr style=\"text-align: right;\">\n",
       "      <th></th>\n",
       "      <th>passanger</th>\n",
       "      <th>time</th>\n",
       "      <th>Y</th>\n",
       "    </tr>\n",
       "  </thead>\n",
       "  <tbody>\n",
       "    <tr>\n",
       "      <th>0</th>\n",
       "      <td>Alone</td>\n",
       "      <td>10AM</td>\n",
       "      <td>0.610959</td>\n",
       "    </tr>\n",
       "    <tr>\n",
       "      <th>1</th>\n",
       "      <td>Alone</td>\n",
       "      <td>10PM</td>\n",
       "      <td>0.291005</td>\n",
       "    </tr>\n",
       "    <tr>\n",
       "      <th>2</th>\n",
       "      <td>Alone</td>\n",
       "      <td>6PM</td>\n",
       "      <td>0.383007</td>\n",
       "    </tr>\n",
       "    <tr>\n",
       "      <th>3</th>\n",
       "      <td>Alone</td>\n",
       "      <td>7AM</td>\n",
       "      <td>0.445676</td>\n",
       "    </tr>\n",
       "    <tr>\n",
       "      <th>4</th>\n",
       "      <td>Friend(s)</td>\n",
       "      <td>10AM</td>\n",
       "      <td>0.677215</td>\n",
       "    </tr>\n",
       "    <tr>\n",
       "      <th>5</th>\n",
       "      <td>Friend(s)</td>\n",
       "      <td>10PM</td>\n",
       "      <td>0.689320</td>\n",
       "    </tr>\n",
       "    <tr>\n",
       "      <th>6</th>\n",
       "      <td>Friend(s)</td>\n",
       "      <td>2PM</td>\n",
       "      <td>0.555200</td>\n",
       "    </tr>\n",
       "    <tr>\n",
       "      <th>7</th>\n",
       "      <td>Friend(s)</td>\n",
       "      <td>6PM</td>\n",
       "      <td>0.559006</td>\n",
       "    </tr>\n",
       "    <tr>\n",
       "      <th>8</th>\n",
       "      <td>Kid(s)</td>\n",
       "      <td>10AM</td>\n",
       "      <td>0.714286</td>\n",
       "    </tr>\n",
       "    <tr>\n",
       "      <th>9</th>\n",
       "      <td>Kid(s)</td>\n",
       "      <td>2PM</td>\n",
       "      <td>0.555556</td>\n",
       "    </tr>\n",
       "    <tr>\n",
       "      <th>10</th>\n",
       "      <td>Kid(s)</td>\n",
       "      <td>6PM</td>\n",
       "      <td>0.321839</td>\n",
       "    </tr>\n",
       "    <tr>\n",
       "      <th>11</th>\n",
       "      <td>Partner</td>\n",
       "      <td>10AM</td>\n",
       "      <td>0.614458</td>\n",
       "    </tr>\n",
       "    <tr>\n",
       "      <th>12</th>\n",
       "      <td>Partner</td>\n",
       "      <td>2PM</td>\n",
       "      <td>0.493151</td>\n",
       "    </tr>\n",
       "    <tr>\n",
       "      <th>13</th>\n",
       "      <td>Partner</td>\n",
       "      <td>6PM</td>\n",
       "      <td>0.553571</td>\n",
       "    </tr>\n",
       "  </tbody>\n",
       "</table>\n",
       "</div>"
      ],
      "text/plain": [
       "    passanger  time         Y\n",
       "0       Alone  10AM  0.610959\n",
       "1       Alone  10PM  0.291005\n",
       "2       Alone   6PM  0.383007\n",
       "3       Alone   7AM  0.445676\n",
       "4   Friend(s)  10AM  0.677215\n",
       "5   Friend(s)  10PM  0.689320\n",
       "6   Friend(s)   2PM  0.555200\n",
       "7   Friend(s)   6PM  0.559006\n",
       "8      Kid(s)  10AM  0.714286\n",
       "9      Kid(s)   2PM  0.555556\n",
       "10     Kid(s)   6PM  0.321839\n",
       "11    Partner  10AM  0.614458\n",
       "12    Partner   2PM  0.493151\n",
       "13    Partner   6PM  0.553571"
      ]
     },
     "execution_count": 69,
     "metadata": {},
     "output_type": "execute_result"
    }
   ],
   "source": [
    "#remove NaN values\n",
    "# Ensure there are no NaN values in key columns\n",
    "data_coffee_coupons_cleaned = data_coffee_coupons_cleaned.dropna(subset=[\"passanger\", \"time\", \"Y\"])\n",
    "\n",
    "#Calculate acceptance rates by passenger type and time of day using cleaned data\n",
    "#Use .reset_index() before pivoting to prevent shape mismatches.\n",
    "coffee_acceptance_by_passenger_time = data_coffee_coupons_cleaned.groupby([\"passanger\", \"time\"])[\"Y\"].mean().reset_index()\n",
    "\n",
    "coffee_acceptance_by_passenger_time"
   ]
  },
  {
   "cell_type": "code",
   "execution_count": 71,
   "metadata": {},
   "outputs": [
    {
     "data": {
      "image/png": "[encoded data removed]",
      "text/plain": [
       "<Figure size 1000x600 with 2 Axes>"
      ]
     },
     "metadata": {},
     "output_type": "display_data"
    }
   ],
   "source": [
    "# Pivot the table to get the correct format for the heatmap\n",
    "coffee_acceptance_pivot = coffee_acceptance_by_passenger_time.pivot(index=\"passanger\", columns=\"time\", values=\"Y\") * 100\n",
    "\n",
    "# Create a heatmap to visualize coffee coupon acceptance by passenger type and time of day\n",
    "plt.figure(figsize=(10, 6))\n",
    "sns.heatmap(coffee_acceptance_pivot, annot=True, cmap=\"coolwarm\", fmt=\".2f\", linewidths=0.5)\n",
    "plt.title(\"Coffee Coupon Acceptance by Passenger Type and Time of Day\")\n",
    "plt.xlabel(\"Time of Day\")\n",
    "plt.ylabel(\"Passenger Type\")\n",
    "plt.show()"
   ]
  },
  {
   "cell_type": "code",
   "execution_count": 73,
   "metadata": {},
   "outputs": [
    {
     "data": {
      "image/png": "[encoded data removed]",
      "text/plain": [
       "<Figure size 800x500 with 1 Axes>"
      ]
     },
     "metadata": {},
     "output_type": "display_data"
    }
   ],
   "source": [
    "#visualize coupon acceptance by passenger type using a bar plot\n",
    "plt.figure(figsize=(8, 5))\n",
    "sns.barplot(x=coffee_acceptance_by_passenger_cleaned.index, y=coffee_acceptance_by_passenger_cleaned.values)\n",
    "plt.title(\"Coffee Coupon Acceptance by Passenger Type\")\n",
    "plt.xlabel(\"Passenger Type\")\n",
    "plt.ylabel(\"Acceptance Rate (%)\")\n",
    "plt.show()"
   ]
  },
  {
   "cell_type": "markdown",
   "metadata": {},
   "source": [
    "- Drivers with 'friends' have the highest acceptance rate of ~59.9%.\n",
    "- Drivers with 'partners' also show a high acceptance rate ~57.3%.\n",
    "- Drivers 'alone' have the lowest acceptance rate ~43.8%."
   ]
  },
  {
   "cell_type": "markdown",
   "metadata": {},
   "source": [
    "6. What is the influence of destination on acceptance rate for different passenger types?"
   ]
  },
  {
   "cell_type": "code",
   "execution_count": 75,
   "metadata": {},
   "outputs": [
    {
     "data": {
      "text/html": [
       "<div>\n",
       "<style scoped>\n",
       "    .dataframe tbody tr th:only-of-type {\n",
       "        vertical-align: middle;\n",
       "    }\n",
       "\n",
       "    .dataframe tbody tr th {\n",
       "        vertical-align: top;\n",
       "    }\n",
       "\n",
       "    .dataframe thead th {\n",
       "        text-align: right;\n",
       "    }\n",
       "</style>\n",
       "<table border=\"1\" class=\"dataframe\">\n",
       "  <thead>\n",
       "    <tr style=\"text-align: right;\">\n",
       "      <th></th>\n",
       "      <th>passanger</th>\n",
       "      <th>destination</th>\n",
       "      <th>Y</th>\n",
       "    </tr>\n",
       "  </thead>\n",
       "  <tbody>\n",
       "    <tr>\n",
       "      <th>0</th>\n",
       "      <td>Alone</td>\n",
       "      <td>Home</td>\n",
       "      <td>0.352047</td>\n",
       "    </tr>\n",
       "    <tr>\n",
       "      <th>1</th>\n",
       "      <td>Alone</td>\n",
       "      <td>No Urgent Place</td>\n",
       "      <td>0.581897</td>\n",
       "    </tr>\n",
       "    <tr>\n",
       "      <th>2</th>\n",
       "      <td>Alone</td>\n",
       "      <td>Work</td>\n",
       "      <td>0.445676</td>\n",
       "    </tr>\n",
       "    <tr>\n",
       "      <th>3</th>\n",
       "      <td>Friend(s)</td>\n",
       "      <td>No Urgent Place</td>\n",
       "      <td>0.599170</td>\n",
       "    </tr>\n",
       "    <tr>\n",
       "      <th>4</th>\n",
       "      <td>Kid(s)</td>\n",
       "      <td>No Urgent Place</td>\n",
       "      <td>0.482759</td>\n",
       "    </tr>\n",
       "    <tr>\n",
       "      <th>5</th>\n",
       "      <td>Partner</td>\n",
       "      <td>Home</td>\n",
       "      <td>0.553571</td>\n",
       "    </tr>\n",
       "    <tr>\n",
       "      <th>6</th>\n",
       "      <td>Partner</td>\n",
       "      <td>No Urgent Place</td>\n",
       "      <td>0.577406</td>\n",
       "    </tr>\n",
       "  </tbody>\n",
       "</table>\n",
       "</div>"
      ],
      "text/plain": [
       "   passanger      destination         Y\n",
       "0      Alone             Home  0.352047\n",
       "1      Alone  No Urgent Place  0.581897\n",
       "2      Alone             Work  0.445676\n",
       "3  Friend(s)  No Urgent Place  0.599170\n",
       "4     Kid(s)  No Urgent Place  0.482759\n",
       "5    Partner             Home  0.553571\n",
       "6    Partner  No Urgent Place  0.577406"
      ]
     },
     "execution_count": 75,
     "metadata": {},
     "output_type": "execute_result"
    }
   ],
   "source": [
    "#remove NaN values\n",
    "# Ensure there are no NaN values in key columns\n",
    "data_coffee_coupons_cleaned = data_coffee_coupons_cleaned.dropna(subset=[\"passanger\", \"destination\", \"Y\"])\n",
    "\n",
    "#Calculate acceptance rates by passenger type and destination using cleaned data\n",
    "#Use .reset_index() before pivoting to prevent shape mismatches.\n",
    "coffee_acceptance_by_passenger_destination = data_coffee_coupons_cleaned.groupby([\"passanger\", \"destination\"])[\"Y\"].mean().reset_index()\n",
    "\n",
    "coffee_acceptance_by_passenger_destination"
   ]
  },
  {
   "cell_type": "code",
   "execution_count": 77,
   "metadata": {},
   "outputs": [
    {
     "data": {
      "image/png": "[encoded data removed]",
      "text/plain": [
       "<Figure size 1000x600 with 2 Axes>"
      ]
     },
     "metadata": {},
     "output_type": "display_data"
    }
   ],
   "source": [
    "# Pivot the table to get the correct format for the heatmap\n",
    "coffee_acceptance_pivot = coffee_acceptance_by_passenger_destination.pivot(index=\"passanger\", columns=\"destination\", values=\"Y\") * 100\n",
    "\n",
    "# Create a heatmap to visualize coffee coupon acceptance by passenger type and destination\n",
    "plt.figure(figsize=(10, 6))\n",
    "sns.heatmap(coffee_acceptance_pivot, annot=True, cmap=\"coolwarm\", fmt=\".2f\", linewidths=0.5)\n",
    "plt.title(\"Coffee Coupon Acceptance by Passenger Type and Destination\")\n",
    "plt.xlabel(\"Destination\")\n",
    "plt.ylabel(\"Passenger Type\")\n",
    "plt.show()"
   ]
  },
  {
   "cell_type": "markdown",
   "metadata": {},
   "source": [
    "7. Based on these observations, what do you hypothesize about passengers who accepted the coffee coupons?"
   ]
  },
  {
   "cell_type": "markdown",
   "metadata": {},
   "source": [
    "1. Passenger type affects coupon acceptance"
   ]
  },
  {
   "cell_type": "markdown",
   "metadata": {},
   "source": [
    "- Drivers with 'friends' have the highest acceptance rate of ~59.9%.\n",
    "- Drivers with 'partners' also show a high acceptance rate ~57.3%.\n",
    "- Drivers 'alone' have the lowest acceptance rate ~43.8%."
   ]
  },
  {
   "cell_type": "markdown",
   "metadata": {},
   "source": [
    "2. Time of the day influences Coupon Acceptance"
   ]
  },
  {
   "cell_type": "markdown",
   "metadata": {},
   "source": [
    "Drivers with Friends Have the Highest Acceptance Rate(overall)\n",
    "- Morning (10AM): 67.7% acceptance.\n",
    "- Afternoon (2PM): 55.5% acceptance.\n",
    "- Evening (6PM): 56% acceptance.\n",
    "- Late Night (10PM): 68.9% acceptance(highest at night)."
   ]
  },
  {
   "cell_type": "markdown",
   "metadata": {},
   "source": [
    "Drivers with Kids Are More Likely to Accept in the Morning or Afternoon\n",
    "- Morning (10AM): 71.42% acceptance (highest for this group).\n",
    "- Afternoon (2PM): 55.55% acceptance.\n",
    "- Evening (6PM): 32.18% acceptance (lowest)."
   ]
  },
  {
   "cell_type": "markdown",
   "metadata": {},
   "source": [
    "Drivers with Partners Show Moderate Acceptance Across the Day\n",
    "- Morning (10AM): 61.44% acceptance.\n",
    "- Afternoon (2PM): 49.31% acceptance.\n",
    "- Evening (6PM): 55.35% acceptance."
   ]
  },
  {
   "cell_type": "markdown",
   "metadata": {},
   "source": [
    "Drivers Alone Have the Lowest Acceptance, Especially at Night\n",
    "- Morning (10AM): 61.09% acceptance.\n",
    "- Evening (6PM): 38.3% acceptance.\n",
    "- Late Night (10PM): 29.1% acceptance (lowest of all groups)."
   ]
  },
  {
   "cell_type": "markdown",
   "metadata": {},
   "source": [
    "3. Passenger Type and Destination Correlation"
   ]
  },
  {
   "cell_type": "markdown",
   "metadata": {},
   "source": [
    "- Drivers alone accept coffee coupons 100% of the time across all destinations (Home, Work, No Urgent Place).\n",
    "- Drivers with friends and with kids also show 100% acceptance rates, but only when heading to No Urgent Place (suggesting a preference for casual coffee stops).\n",
    "- Missing values indicate a lack of data points for some combinations (e.g., Friends/Work, Kids/Home)."
   ]
  },
  {
   "cell_type": "markdown",
   "metadata": {},
   "source": [
    "**Overall Summary**\n",
    "\n",
    "Coffee coupon acceptance is influenced most by:\n",
    "\n",
    "- Social settings (Friends & casual outings).\n",
    "- Time of day (Morning & late-night).\n",
    "- Destination flexibility (No Urgent Place = More likely to stop)."
   ]
  },
  {
   "cell_type": "markdown",
   "metadata": {},
   "source": [
    "## Next Steps and Recommendations"
   ]
  },
  {
   "cell_type": "markdown",
   "metadata": {},
   "source": [
    "- Target frequent visitors\n",
    "    - Offer personalized coupons to individuals who frequently visit coffee shops or bars.\n",
    "- Leverage social settings\n",
    "    - Promote group discounts or referral bonuses to encourage acceptance among those with friends or partners.\n",
    "- Optimize coupon distribution times\n",
    "    - Send coffee coupons in the morning (10AM) and late evening (10PM) when acceptance rates are highest.\n",
    "- Focus on lower-income demographics\n",
    "    - Since drivers earning less than $50K were more likely to accept coupons, businesses could provide tiered discounts or loyalty rewards\n",
    "      for budget-conscious consumers.\n",
    "- Encourage spontaneous purchases\n",
    "    - Send push notifications or real-time alerts to drivers who are not heading to work or home, as they are more open to stopping at a coffee shop."
   ]
  },
  {
   "cell_type": "markdown",
   "metadata": {},
   "source": [
    "#### Further Research & Analysis\n",
    "\n",
    "- Investigate the impact of coupon expiration (2 hours vs. 1 day) on acceptance behavior.\n",
    "- Analyze how education level affects coupon acceptance.\n",
    "- Explore differences between urban and rural drivers in coupon acceptance trends.\n",
    "- Study how acceptance varies by app type (e.g, loyalty apps vs. general promotions)."
   ]
  }
 ],
 "metadata": {
  "colab": {
   "provenance": []
  },
  "kernelspec": {
   "display_name": "Python 3 (ipykernel)",
   "language": "python",
   "name": "python3"
  },
  "language_info": {
   "codemirror_mode": {
    "name": "ipython",
    "version": 3
   },
   "file_extension": ".py",
   "mimetype": "text/x-python",
   "name": "python",
   "nbconvert_exporter": "python",
   "pygments_lexer": "ipython3",
   "version": "3.12.7"
  }
 },
 "nbformat": 4,
 "nbformat_minor": 4
}
